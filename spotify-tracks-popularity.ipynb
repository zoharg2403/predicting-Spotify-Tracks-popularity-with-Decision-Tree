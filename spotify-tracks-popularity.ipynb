{
 "cells": [
  {
   "cell_type": "markdown",
   "metadata": {},
   "source": [
    "# Spotify Tracks - song popularity\n",
    "This is a dataset of Spotify tracks over a range of 125 different genres. <br>\n",
    "Each track has some audio features associated with it. The data is in CSV format which is tabular and can be loaded quickly. <br>\n",
    "https://www.kaggle.com/datasets/maharshipandya/-spotify-tracks-dataset"
   ]
  },
  {
   "cell_type": "markdown",
   "metadata": {},
   "source": [
    "## import libraries"
   ]
  },
  {
   "cell_type": "code",
   "execution_count": 1,
   "metadata": {
    "execution": {
     "iopub.execute_input": "2023-02-02T09:38:36.080390Z",
     "iopub.status.busy": "2023-02-02T09:38:36.079932Z",
     "iopub.status.idle": "2023-02-02T09:38:36.658306Z",
     "shell.execute_reply": "2023-02-02T09:38:36.657324Z",
     "shell.execute_reply.started": "2023-02-02T09:38:36.080302Z"
    }
   },
   "outputs": [],
   "source": [
    "import numpy as np\n",
    "import pandas as pd\n",
    "\n",
    "import seaborn as sns\n",
    "import matplotlib.pyplot as plt\n",
    "\n",
    "from sklearn.model_selection import train_test_split, GridSearchCV\n",
    "from sklearn.pipeline import make_pipeline\n",
    "from sklearn.preprocessing import OneHotEncoder\n",
    "from sklearn.tree import DecisionTreeClassifier, DecisionTreeRegressor\n",
    "from sklearn.metrics import confusion_matrix, ConfusionMatrixDisplay, \n",
    "from sklearn.metrics import accuracy_score, recall_score, precision_score, f1_score\n"
   ]
  },
  {
   "cell_type": "markdown",
   "metadata": {},
   "source": [
    "## Data exploration"
   ]
  },
  {
   "cell_type": "code",
   "execution_count": 2,
   "metadata": {
    "execution": {
     "iopub.execute_input": "2023-02-02T09:38:37.264112Z",
     "iopub.status.busy": "2023-02-02T09:38:37.263711Z",
     "iopub.status.idle": "2023-02-02T09:38:37.271159Z",
     "shell.execute_reply": "2023-02-02T09:38:37.269859Z",
     "shell.execute_reply.started": "2023-02-02T09:38:37.264080Z"
    }
   },
   "outputs": [],
   "source": [
    "def wrangle (path):\n",
    "    df = pd.read_csv(path)  # read datafile into df\n",
    "    \n",
    "    # drop uneeded columns/rows\n",
    "    df.drop(columns=['Unnamed: 0'], inplace=True)\n",
    "    df.dropna(inplace=True)  \n",
    "    \n",
    "    # split artists names in the artists column to seperate row for each artist\n",
    "    df['artists'] = df['artists'].apply(lambda s: s.split(';'))\n",
    "    df = df.explode('artists', ignore_index=False)\n",
    "    \n",
    "    # set track_id as index\n",
    "    df.set_index('track_id', drop=True, inplace=True)\n",
    "    return df"
   ]
  },
  {
   "cell_type": "code",
   "execution_count": 3,
   "metadata": {
    "execution": {
     "iopub.execute_input": "2023-02-02T09:38:38.830149Z",
     "iopub.status.busy": "2023-02-02T09:38:38.829720Z",
     "iopub.status.idle": "2023-02-02T09:38:39.752322Z",
     "shell.execute_reply": "2023-02-02T09:38:39.751269Z",
     "shell.execute_reply.started": "2023-02-02T09:38:38.830113Z"
    }
   },
   "outputs": [
    {
     "data": {
      "text/html": [
       "<div>\n",
       "<style scoped>\n",
       "    .dataframe tbody tr th:only-of-type {\n",
       "        vertical-align: middle;\n",
       "    }\n",
       "\n",
       "    .dataframe tbody tr th {\n",
       "        vertical-align: top;\n",
       "    }\n",
       "\n",
       "    .dataframe thead th {\n",
       "        text-align: right;\n",
       "    }\n",
       "</style>\n",
       "<table border=\"1\" class=\"dataframe\">\n",
       "  <thead>\n",
       "    <tr style=\"text-align: right;\">\n",
       "      <th></th>\n",
       "      <th>artists</th>\n",
       "      <th>album_name</th>\n",
       "      <th>track_name</th>\n",
       "      <th>popularity</th>\n",
       "      <th>duration_ms</th>\n",
       "      <th>explicit</th>\n",
       "      <th>danceability</th>\n",
       "      <th>energy</th>\n",
       "      <th>key</th>\n",
       "      <th>loudness</th>\n",
       "      <th>mode</th>\n",
       "      <th>speechiness</th>\n",
       "      <th>acousticness</th>\n",
       "      <th>instrumentalness</th>\n",
       "      <th>liveness</th>\n",
       "      <th>valence</th>\n",
       "      <th>tempo</th>\n",
       "      <th>time_signature</th>\n",
       "      <th>track_genre</th>\n",
       "    </tr>\n",
       "    <tr>\n",
       "      <th>track_id</th>\n",
       "      <th></th>\n",
       "      <th></th>\n",
       "      <th></th>\n",
       "      <th></th>\n",
       "      <th></th>\n",
       "      <th></th>\n",
       "      <th></th>\n",
       "      <th></th>\n",
       "      <th></th>\n",
       "      <th></th>\n",
       "      <th></th>\n",
       "      <th></th>\n",
       "      <th></th>\n",
       "      <th></th>\n",
       "      <th></th>\n",
       "      <th></th>\n",
       "      <th></th>\n",
       "      <th></th>\n",
       "      <th></th>\n",
       "    </tr>\n",
       "  </thead>\n",
       "  <tbody>\n",
       "    <tr>\n",
       "      <th>5SuOikwiRyPMVoIQDJUgSV</th>\n",
       "      <td>Gen Hoshino</td>\n",
       "      <td>Comedy</td>\n",
       "      <td>Comedy</td>\n",
       "      <td>73</td>\n",
       "      <td>230666</td>\n",
       "      <td>False</td>\n",
       "      <td>0.676</td>\n",
       "      <td>0.4610</td>\n",
       "      <td>1</td>\n",
       "      <td>-6.746</td>\n",
       "      <td>0</td>\n",
       "      <td>0.1430</td>\n",
       "      <td>0.0322</td>\n",
       "      <td>0.000001</td>\n",
       "      <td>0.358</td>\n",
       "      <td>0.715</td>\n",
       "      <td>87.917</td>\n",
       "      <td>4</td>\n",
       "      <td>acoustic</td>\n",
       "    </tr>\n",
       "    <tr>\n",
       "      <th>4qPNDBW1i3p13qLCt0Ki3A</th>\n",
       "      <td>Ben Woodward</td>\n",
       "      <td>Ghost (Acoustic)</td>\n",
       "      <td>Ghost - Acoustic</td>\n",
       "      <td>55</td>\n",
       "      <td>149610</td>\n",
       "      <td>False</td>\n",
       "      <td>0.420</td>\n",
       "      <td>0.1660</td>\n",
       "      <td>1</td>\n",
       "      <td>-17.235</td>\n",
       "      <td>1</td>\n",
       "      <td>0.0763</td>\n",
       "      <td>0.9240</td>\n",
       "      <td>0.000006</td>\n",
       "      <td>0.101</td>\n",
       "      <td>0.267</td>\n",
       "      <td>77.489</td>\n",
       "      <td>4</td>\n",
       "      <td>acoustic</td>\n",
       "    </tr>\n",
       "    <tr>\n",
       "      <th>1iJBSr7s7jYXzM8EGcbK5b</th>\n",
       "      <td>Ingrid Michaelson</td>\n",
       "      <td>To Begin Again</td>\n",
       "      <td>To Begin Again</td>\n",
       "      <td>57</td>\n",
       "      <td>210826</td>\n",
       "      <td>False</td>\n",
       "      <td>0.438</td>\n",
       "      <td>0.3590</td>\n",
       "      <td>0</td>\n",
       "      <td>-9.734</td>\n",
       "      <td>1</td>\n",
       "      <td>0.0557</td>\n",
       "      <td>0.2100</td>\n",
       "      <td>0.000000</td>\n",
       "      <td>0.117</td>\n",
       "      <td>0.120</td>\n",
       "      <td>76.332</td>\n",
       "      <td>4</td>\n",
       "      <td>acoustic</td>\n",
       "    </tr>\n",
       "    <tr>\n",
       "      <th>1iJBSr7s7jYXzM8EGcbK5b</th>\n",
       "      <td>ZAYN</td>\n",
       "      <td>To Begin Again</td>\n",
       "      <td>To Begin Again</td>\n",
       "      <td>57</td>\n",
       "      <td>210826</td>\n",
       "      <td>False</td>\n",
       "      <td>0.438</td>\n",
       "      <td>0.3590</td>\n",
       "      <td>0</td>\n",
       "      <td>-9.734</td>\n",
       "      <td>1</td>\n",
       "      <td>0.0557</td>\n",
       "      <td>0.2100</td>\n",
       "      <td>0.000000</td>\n",
       "      <td>0.117</td>\n",
       "      <td>0.120</td>\n",
       "      <td>76.332</td>\n",
       "      <td>4</td>\n",
       "      <td>acoustic</td>\n",
       "    </tr>\n",
       "    <tr>\n",
       "      <th>6lfxq3CG4xtTiEg7opyCyx</th>\n",
       "      <td>Kina Grannis</td>\n",
       "      <td>Crazy Rich Asians (Original Motion Picture Sou...</td>\n",
       "      <td>Can't Help Falling In Love</td>\n",
       "      <td>71</td>\n",
       "      <td>201933</td>\n",
       "      <td>False</td>\n",
       "      <td>0.266</td>\n",
       "      <td>0.0596</td>\n",
       "      <td>0</td>\n",
       "      <td>-18.515</td>\n",
       "      <td>1</td>\n",
       "      <td>0.0363</td>\n",
       "      <td>0.9050</td>\n",
       "      <td>0.000071</td>\n",
       "      <td>0.132</td>\n",
       "      <td>0.143</td>\n",
       "      <td>181.740</td>\n",
       "      <td>3</td>\n",
       "      <td>acoustic</td>\n",
       "    </tr>\n",
       "  </tbody>\n",
       "</table>\n",
       "</div>"
      ],
      "text/plain": [
       "                                  artists  \\\n",
       "track_id                                    \n",
       "5SuOikwiRyPMVoIQDJUgSV        Gen Hoshino   \n",
       "4qPNDBW1i3p13qLCt0Ki3A       Ben Woodward   \n",
       "1iJBSr7s7jYXzM8EGcbK5b  Ingrid Michaelson   \n",
       "1iJBSr7s7jYXzM8EGcbK5b               ZAYN   \n",
       "6lfxq3CG4xtTiEg7opyCyx       Kina Grannis   \n",
       "\n",
       "                                                               album_name  \\\n",
       "track_id                                                                    \n",
       "5SuOikwiRyPMVoIQDJUgSV                                             Comedy   \n",
       "4qPNDBW1i3p13qLCt0Ki3A                                   Ghost (Acoustic)   \n",
       "1iJBSr7s7jYXzM8EGcbK5b                                     To Begin Again   \n",
       "1iJBSr7s7jYXzM8EGcbK5b                                     To Begin Again   \n",
       "6lfxq3CG4xtTiEg7opyCyx  Crazy Rich Asians (Original Motion Picture Sou...   \n",
       "\n",
       "                                        track_name  popularity  duration_ms  \\\n",
       "track_id                                                                      \n",
       "5SuOikwiRyPMVoIQDJUgSV                      Comedy          73       230666   \n",
       "4qPNDBW1i3p13qLCt0Ki3A            Ghost - Acoustic          55       149610   \n",
       "1iJBSr7s7jYXzM8EGcbK5b              To Begin Again          57       210826   \n",
       "1iJBSr7s7jYXzM8EGcbK5b              To Begin Again          57       210826   \n",
       "6lfxq3CG4xtTiEg7opyCyx  Can't Help Falling In Love          71       201933   \n",
       "\n",
       "                        explicit  danceability  energy  key  loudness  mode  \\\n",
       "track_id                                                                      \n",
       "5SuOikwiRyPMVoIQDJUgSV     False         0.676  0.4610    1    -6.746     0   \n",
       "4qPNDBW1i3p13qLCt0Ki3A     False         0.420  0.1660    1   -17.235     1   \n",
       "1iJBSr7s7jYXzM8EGcbK5b     False         0.438  0.3590    0    -9.734     1   \n",
       "1iJBSr7s7jYXzM8EGcbK5b     False         0.438  0.3590    0    -9.734     1   \n",
       "6lfxq3CG4xtTiEg7opyCyx     False         0.266  0.0596    0   -18.515     1   \n",
       "\n",
       "                        speechiness  acousticness  instrumentalness  liveness  \\\n",
       "track_id                                                                        \n",
       "5SuOikwiRyPMVoIQDJUgSV       0.1430        0.0322          0.000001     0.358   \n",
       "4qPNDBW1i3p13qLCt0Ki3A       0.0763        0.9240          0.000006     0.101   \n",
       "1iJBSr7s7jYXzM8EGcbK5b       0.0557        0.2100          0.000000     0.117   \n",
       "1iJBSr7s7jYXzM8EGcbK5b       0.0557        0.2100          0.000000     0.117   \n",
       "6lfxq3CG4xtTiEg7opyCyx       0.0363        0.9050          0.000071     0.132   \n",
       "\n",
       "                        valence    tempo  time_signature track_genre  \n",
       "track_id                                                              \n",
       "5SuOikwiRyPMVoIQDJUgSV    0.715   87.917               4    acoustic  \n",
       "4qPNDBW1i3p13qLCt0Ki3A    0.267   77.489               4    acoustic  \n",
       "1iJBSr7s7jYXzM8EGcbK5b    0.120   76.332               4    acoustic  \n",
       "1iJBSr7s7jYXzM8EGcbK5b    0.120   76.332               4    acoustic  \n",
       "6lfxq3CG4xtTiEg7opyCyx    0.143  181.740               3    acoustic  "
      ]
     },
     "execution_count": 3,
     "metadata": {},
     "output_type": "execute_result"
    }
   ],
   "source": [
    "data_dir = '/kaggle/input/-spotify-tracks-dataset/dataset.csv'\n",
    "df = wrangle(data_dir)\n",
    "df.head()"
   ]
  },
  {
   "cell_type": "code",
   "execution_count": 4,
   "metadata": {
    "execution": {
     "iopub.execute_input": "2023-02-02T09:38:41.599902Z",
     "iopub.status.busy": "2023-02-02T09:38:41.598271Z",
     "iopub.status.idle": "2023-02-02T09:38:41.649958Z",
     "shell.execute_reply": "2023-02-02T09:38:41.648638Z",
     "shell.execute_reply.started": "2023-02-02T09:38:41.599852Z"
    }
   },
   "outputs": [
    {
     "name": "stdout",
     "output_type": "stream",
     "text": [
      "<class 'pandas.core.frame.DataFrame'>\n",
      "Index: 158292 entries, 5SuOikwiRyPMVoIQDJUgSV to 2hETkH7cOfqmz3LqZDHZf5\n",
      "Data columns (total 19 columns):\n",
      " #   Column            Non-Null Count   Dtype  \n",
      "---  ------            --------------   -----  \n",
      " 0   artists           158292 non-null  object \n",
      " 1   album_name        158292 non-null  object \n",
      " 2   track_name        158292 non-null  object \n",
      " 3   popularity        158292 non-null  int64  \n",
      " 4   duration_ms       158292 non-null  int64  \n",
      " 5   explicit          158292 non-null  bool   \n",
      " 6   danceability      158292 non-null  float64\n",
      " 7   energy            158292 non-null  float64\n",
      " 8   key               158292 non-null  int64  \n",
      " 9   loudness          158292 non-null  float64\n",
      " 10  mode              158292 non-null  int64  \n",
      " 11  speechiness       158292 non-null  float64\n",
      " 12  acousticness      158292 non-null  float64\n",
      " 13  instrumentalness  158292 non-null  float64\n",
      " 14  liveness          158292 non-null  float64\n",
      " 15  valence           158292 non-null  float64\n",
      " 16  tempo             158292 non-null  float64\n",
      " 17  time_signature    158292 non-null  int64  \n",
      " 18  track_genre       158292 non-null  object \n",
      "dtypes: bool(1), float64(9), int64(5), object(4)\n",
      "memory usage: 23.1+ MB\n"
     ]
    }
   ],
   "source": [
    "df.info()"
   ]
  },
  {
   "cell_type": "markdown",
   "metadata": {},
   "source": [
    "**column description:**\n",
    " - **track_id:** The Spotify ID for the track\n",
    " - **artists:** The artists' names who performed the track. If there is more than one artist, they are separated by a ;\n",
    " - **album_name:** The album name in which the track appears\n",
    " - **track_name:** Name of the track\n",
    " - **popularity:** The popularity of a track is a value between 0 and 100, with 100 being the most popular. The popularity is calculated by algorithm and is based, in the most part, on the total number of plays the track has had and how recent those plays are. Generally speaking, songs that are being played a lot now will have a higher popularity than songs that were played a lot in the past. Duplicate tracks (e.g. the same track from a single and an album) are rated independently. Artist and album popularity is derived mathematically from track popularity.\n",
    " - **duration_ms:** The track length in milliseconds\n",
    " - **explicit:** Whether or not the track has explicit lyrics (true = yes it does; false = no it does not OR unknown)\n",
    " - **danceability:** Danceability describes how suitable a track is for dancing based on a combination of musical elements including tempo, rhythm stability, beat strength, and overall regularity. A value of 0.0 is least danceable and 1.0 is most danceable\n",
    " - **energy:** Energy is a measure from 0.0 to 1.0 and represents a perceptual measure of intensity and activity. Typically, energetic tracks feel fast, loud, and noisy. For example, death metal has high energy, while a Bach prelude scores low on the scale\n",
    " - **key:** The key the track is in. Integers map to pitches using standard Pitch Class notation. E.g. 0 = C, 1 = C♯/D♭, 2 = D, and so on. If no key was detected, the value is -1\n",
    " - **loudness:** The overall loudness of a track in decibels (dB)\n",
    " - **mode:** Mode indicates the modality (major or minor) of a track, the type of scale from which its melodic content is derived. Major is represented by 1 and minor is 0\n",
    " - **speechiness:** Speechiness detects the presence of spoken words in a track. The more exclusively speech-like the recording (e.g. talk show, audio book, poetry), the closer to 1.0 the attribute value. Values above 0.66 describe tracks that are probably made entirely of spoken words. Values between 0.33 and 0.66 describe tracks that may contain both music and speech, either in sections or layered, including such cases as rap music. Values below 0.33 most likely represent music and other non-speech-like tracks\n",
    " - **acousticness:** A confidence measure from 0.0 to 1.0 of whether the track is acoustic. 1.0 represents high confidence the track is acoustic\n",
    " - **instrumentalness:** Predicts whether a track contains no vocals. \"Ooh\" and \"aah\" sounds are treated as instrumental in this context. Rap or spoken word tracks are clearly \"vocal\". The closer the instrumentalness value is to 1.0, the greater likelihood the track contains no vocal content\n",
    " - **liveness:** Detects the presence of an audience in the recording. Higher liveness values represent an increased probability that the track was performed live. A value above 0.8 provides strong likelihood that the track is live\n",
    " - **valence:** A measure from 0.0 to 1.0 describing the musical positiveness conveyed by a track. Tracks with high valence sound more positive (e.g. happy, cheerful, euphoric), while tracks with low valence sound more negative (e.g. sad, depressed, angry)\n",
    " - **tempo:** The overall estimated tempo of a track in beats per minute (BPM). In musical terminology, tempo is the speed or pace of a given piece and derives directly from the average beat duration\n",
    " - **time_signature:** An estimated time signature. The time signature (meter) is a notational convention to specify how many beats are in each bar (or measure). The time signature ranges from 3 to 7 indicating time signatures of 3/4, to 7/4.\n",
    " - **track_genre:** The genre in which the track belongs"
   ]
  },
  {
   "cell_type": "markdown",
   "metadata": {},
   "source": [
    "**Eliminate Multicollinearity Between Features** <br>\n",
    "Look for correlated features:"
   ]
  },
  {
   "cell_type": "code",
   "execution_count": 5,
   "metadata": {
    "execution": {
     "iopub.execute_input": "2023-02-02T09:38:44.091303Z",
     "iopub.status.busy": "2023-02-02T09:38:44.090533Z",
     "iopub.status.idle": "2023-02-02T09:38:44.793949Z",
     "shell.execute_reply": "2023-02-02T09:38:44.792812Z",
     "shell.execute_reply.started": "2023-02-02T09:38:44.091254Z"
    }
   },
   "outputs": [
    {
     "data": {
      "image/png": "[encoded data removed]",
      "text/plain": [
       "<Figure size 720x720 with 4 Axes>"
      ]
     },
     "metadata": {
      "needs_background": "light"
     },
     "output_type": "display_data"
    }
   ],
   "source": [
    "corr_matrix = (df.select_dtypes(exclude=['object'])\n",
    "               .corr(method='pearson')\n",
    "               .abs())\n",
    "\n",
    "sns.clustermap(corr_matrix, center=0, cmap=\"vlag\",\n",
    "                   dendrogram_ratio=(.1, .2),\n",
    "                   cbar_pos=(.02, .32, .03, .2));"
   ]
  },
  {
   "cell_type": "markdown",
   "metadata": {},
   "source": [
    "Drop columns with corrolation > 0.7:"
   ]
  },
  {
   "cell_type": "code",
   "execution_count": 6,
   "metadata": {
    "execution": {
     "iopub.execute_input": "2023-02-02T09:38:48.543509Z",
     "iopub.status.busy": "2023-02-02T09:38:48.542859Z",
     "iopub.status.idle": "2023-02-02T09:38:49.205408Z",
     "shell.execute_reply": "2023-02-02T09:38:49.204639Z",
     "shell.execute_reply.started": "2023-02-02T09:38:48.543463Z"
    }
   },
   "outputs": [
    {
     "data": {
      "image/png": "[encoded data removed]",
      "text/plain": [
       "<Figure size 720x720 with 4 Axes>"
      ]
     },
     "metadata": {
      "needs_background": "light"
     },
     "output_type": "display_data"
    }
   ],
   "source": [
    "# Correlation matrix will be mirror image about the diagonal and all the diagonal elements will be 1\n",
    "# So we are selecting the upper traingular\n",
    "# We should not include the diagonal elements\n",
    "upper_tri_mask = np.triu(np.ones(corr_matrix.shape),k=1).astype(bool)\n",
    "upper_tri = corr_matrix.where(upper_tri_mask)\n",
    "# drop columns\n",
    "cols_to_drop = [c for c in corr_matrix.columns if any(upper_tri[c] > 0.7)]\n",
    "df.drop(columns=cols_to_drop, inplace=True)\n",
    "\n",
    "new_corr_matrix = (df.select_dtypes(exclude=['object'])\n",
    "                   .corr(method='pearson')\n",
    "                   .abs())\n",
    "\n",
    "sns.clustermap(new_corr_matrix, center=0, cmap=\"vlag\",\n",
    "                   dendrogram_ratio=(.1, .2),\n",
    "                   cbar_pos=(.02, .32, .03, .2));"
   ]
  },
  {
   "cell_type": "code",
   "execution_count": 7,
   "metadata": {
    "execution": {
     "iopub.execute_input": "2023-02-02T09:38:51.573872Z",
     "iopub.status.busy": "2023-02-02T09:38:51.573441Z",
     "iopub.status.idle": "2023-02-02T09:38:51.594412Z",
     "shell.execute_reply": "2023-02-02T09:38:51.593192Z",
     "shell.execute_reply.started": "2023-02-02T09:38:51.573836Z"
    }
   },
   "outputs": [
    {
     "data": {
      "text/html": [
       "<div>\n",
       "<style scoped>\n",
       "    .dataframe tbody tr th:only-of-type {\n",
       "        vertical-align: middle;\n",
       "    }\n",
       "\n",
       "    .dataframe tbody tr th {\n",
       "        vertical-align: top;\n",
       "    }\n",
       "\n",
       "    .dataframe thead th {\n",
       "        text-align: right;\n",
       "    }\n",
       "</style>\n",
       "<table border=\"1\" class=\"dataframe\">\n",
       "  <thead>\n",
       "    <tr style=\"text-align: right;\">\n",
       "      <th></th>\n",
       "      <th>artists</th>\n",
       "      <th>album_name</th>\n",
       "      <th>track_name</th>\n",
       "      <th>popularity</th>\n",
       "      <th>duration_ms</th>\n",
       "      <th>explicit</th>\n",
       "      <th>danceability</th>\n",
       "      <th>energy</th>\n",
       "      <th>key</th>\n",
       "      <th>mode</th>\n",
       "      <th>speechiness</th>\n",
       "      <th>instrumentalness</th>\n",
       "      <th>liveness</th>\n",
       "      <th>valence</th>\n",
       "      <th>tempo</th>\n",
       "      <th>time_signature</th>\n",
       "      <th>track_genre</th>\n",
       "    </tr>\n",
       "    <tr>\n",
       "      <th>track_id</th>\n",
       "      <th></th>\n",
       "      <th></th>\n",
       "      <th></th>\n",
       "      <th></th>\n",
       "      <th></th>\n",
       "      <th></th>\n",
       "      <th></th>\n",
       "      <th></th>\n",
       "      <th></th>\n",
       "      <th></th>\n",
       "      <th></th>\n",
       "      <th></th>\n",
       "      <th></th>\n",
       "      <th></th>\n",
       "      <th></th>\n",
       "      <th></th>\n",
       "      <th></th>\n",
       "    </tr>\n",
       "  </thead>\n",
       "  <tbody>\n",
       "    <tr>\n",
       "      <th>5SuOikwiRyPMVoIQDJUgSV</th>\n",
       "      <td>Gen Hoshino</td>\n",
       "      <td>Comedy</td>\n",
       "      <td>Comedy</td>\n",
       "      <td>73</td>\n",
       "      <td>230666</td>\n",
       "      <td>False</td>\n",
       "      <td>0.676</td>\n",
       "      <td>0.4610</td>\n",
       "      <td>1</td>\n",
       "      <td>0</td>\n",
       "      <td>0.1430</td>\n",
       "      <td>0.000001</td>\n",
       "      <td>0.358</td>\n",
       "      <td>0.715</td>\n",
       "      <td>87.917</td>\n",
       "      <td>4</td>\n",
       "      <td>acoustic</td>\n",
       "    </tr>\n",
       "    <tr>\n",
       "      <th>4qPNDBW1i3p13qLCt0Ki3A</th>\n",
       "      <td>Ben Woodward</td>\n",
       "      <td>Ghost (Acoustic)</td>\n",
       "      <td>Ghost - Acoustic</td>\n",
       "      <td>55</td>\n",
       "      <td>149610</td>\n",
       "      <td>False</td>\n",
       "      <td>0.420</td>\n",
       "      <td>0.1660</td>\n",
       "      <td>1</td>\n",
       "      <td>1</td>\n",
       "      <td>0.0763</td>\n",
       "      <td>0.000006</td>\n",
       "      <td>0.101</td>\n",
       "      <td>0.267</td>\n",
       "      <td>77.489</td>\n",
       "      <td>4</td>\n",
       "      <td>acoustic</td>\n",
       "    </tr>\n",
       "    <tr>\n",
       "      <th>1iJBSr7s7jYXzM8EGcbK5b</th>\n",
       "      <td>Ingrid Michaelson</td>\n",
       "      <td>To Begin Again</td>\n",
       "      <td>To Begin Again</td>\n",
       "      <td>57</td>\n",
       "      <td>210826</td>\n",
       "      <td>False</td>\n",
       "      <td>0.438</td>\n",
       "      <td>0.3590</td>\n",
       "      <td>0</td>\n",
       "      <td>1</td>\n",
       "      <td>0.0557</td>\n",
       "      <td>0.000000</td>\n",
       "      <td>0.117</td>\n",
       "      <td>0.120</td>\n",
       "      <td>76.332</td>\n",
       "      <td>4</td>\n",
       "      <td>acoustic</td>\n",
       "    </tr>\n",
       "    <tr>\n",
       "      <th>1iJBSr7s7jYXzM8EGcbK5b</th>\n",
       "      <td>ZAYN</td>\n",
       "      <td>To Begin Again</td>\n",
       "      <td>To Begin Again</td>\n",
       "      <td>57</td>\n",
       "      <td>210826</td>\n",
       "      <td>False</td>\n",
       "      <td>0.438</td>\n",
       "      <td>0.3590</td>\n",
       "      <td>0</td>\n",
       "      <td>1</td>\n",
       "      <td>0.0557</td>\n",
       "      <td>0.000000</td>\n",
       "      <td>0.117</td>\n",
       "      <td>0.120</td>\n",
       "      <td>76.332</td>\n",
       "      <td>4</td>\n",
       "      <td>acoustic</td>\n",
       "    </tr>\n",
       "    <tr>\n",
       "      <th>6lfxq3CG4xtTiEg7opyCyx</th>\n",
       "      <td>Kina Grannis</td>\n",
       "      <td>Crazy Rich Asians (Original Motion Picture Sou...</td>\n",
       "      <td>Can't Help Falling In Love</td>\n",
       "      <td>71</td>\n",
       "      <td>201933</td>\n",
       "      <td>False</td>\n",
       "      <td>0.266</td>\n",
       "      <td>0.0596</td>\n",
       "      <td>0</td>\n",
       "      <td>1</td>\n",
       "      <td>0.0363</td>\n",
       "      <td>0.000071</td>\n",
       "      <td>0.132</td>\n",
       "      <td>0.143</td>\n",
       "      <td>181.740</td>\n",
       "      <td>3</td>\n",
       "      <td>acoustic</td>\n",
       "    </tr>\n",
       "  </tbody>\n",
       "</table>\n",
       "</div>"
      ],
      "text/plain": [
       "                                  artists  \\\n",
       "track_id                                    \n",
       "5SuOikwiRyPMVoIQDJUgSV        Gen Hoshino   \n",
       "4qPNDBW1i3p13qLCt0Ki3A       Ben Woodward   \n",
       "1iJBSr7s7jYXzM8EGcbK5b  Ingrid Michaelson   \n",
       "1iJBSr7s7jYXzM8EGcbK5b               ZAYN   \n",
       "6lfxq3CG4xtTiEg7opyCyx       Kina Grannis   \n",
       "\n",
       "                                                               album_name  \\\n",
       "track_id                                                                    \n",
       "5SuOikwiRyPMVoIQDJUgSV                                             Comedy   \n",
       "4qPNDBW1i3p13qLCt0Ki3A                                   Ghost (Acoustic)   \n",
       "1iJBSr7s7jYXzM8EGcbK5b                                     To Begin Again   \n",
       "1iJBSr7s7jYXzM8EGcbK5b                                     To Begin Again   \n",
       "6lfxq3CG4xtTiEg7opyCyx  Crazy Rich Asians (Original Motion Picture Sou...   \n",
       "\n",
       "                                        track_name  popularity  duration_ms  \\\n",
       "track_id                                                                      \n",
       "5SuOikwiRyPMVoIQDJUgSV                      Comedy          73       230666   \n",
       "4qPNDBW1i3p13qLCt0Ki3A            Ghost - Acoustic          55       149610   \n",
       "1iJBSr7s7jYXzM8EGcbK5b              To Begin Again          57       210826   \n",
       "1iJBSr7s7jYXzM8EGcbK5b              To Begin Again          57       210826   \n",
       "6lfxq3CG4xtTiEg7opyCyx  Can't Help Falling In Love          71       201933   \n",
       "\n",
       "                        explicit  danceability  energy  key  mode  \\\n",
       "track_id                                                            \n",
       "5SuOikwiRyPMVoIQDJUgSV     False         0.676  0.4610    1     0   \n",
       "4qPNDBW1i3p13qLCt0Ki3A     False         0.420  0.1660    1     1   \n",
       "1iJBSr7s7jYXzM8EGcbK5b     False         0.438  0.3590    0     1   \n",
       "1iJBSr7s7jYXzM8EGcbK5b     False         0.438  0.3590    0     1   \n",
       "6lfxq3CG4xtTiEg7opyCyx     False         0.266  0.0596    0     1   \n",
       "\n",
       "                        speechiness  instrumentalness  liveness  valence  \\\n",
       "track_id                                                                   \n",
       "5SuOikwiRyPMVoIQDJUgSV       0.1430          0.000001     0.358    0.715   \n",
       "4qPNDBW1i3p13qLCt0Ki3A       0.0763          0.000006     0.101    0.267   \n",
       "1iJBSr7s7jYXzM8EGcbK5b       0.0557          0.000000     0.117    0.120   \n",
       "1iJBSr7s7jYXzM8EGcbK5b       0.0557          0.000000     0.117    0.120   \n",
       "6lfxq3CG4xtTiEg7opyCyx       0.0363          0.000071     0.132    0.143   \n",
       "\n",
       "                          tempo  time_signature track_genre  \n",
       "track_id                                                     \n",
       "5SuOikwiRyPMVoIQDJUgSV   87.917               4    acoustic  \n",
       "4qPNDBW1i3p13qLCt0Ki3A   77.489               4    acoustic  \n",
       "1iJBSr7s7jYXzM8EGcbK5b   76.332               4    acoustic  \n",
       "1iJBSr7s7jYXzM8EGcbK5b   76.332               4    acoustic  \n",
       "6lfxq3CG4xtTiEg7opyCyx  181.740               3    acoustic  "
      ]
     },
     "execution_count": 7,
     "metadata": {},
     "output_type": "execute_result"
    }
   ],
   "source": [
    "df.head()"
   ]
  },
  {
   "cell_type": "markdown",
   "metadata": {},
   "source": [
    "**Split data:** <br>\n",
    "X and Y sets:"
   ]
  },
  {
   "cell_type": "code",
   "execution_count": 8,
   "metadata": {
    "execution": {
     "iopub.execute_input": "2023-02-02T09:39:00.629697Z",
     "iopub.status.busy": "2023-02-02T09:39:00.629179Z",
     "iopub.status.idle": "2023-02-02T09:39:00.656219Z",
     "shell.execute_reply": "2023-02-02T09:39:00.655154Z",
     "shell.execute_reply.started": "2023-02-02T09:39:00.629658Z"
    }
   },
   "outputs": [],
   "source": [
    "# create Y values - popular / not popular label from popularity column\n",
    "df['popular_lable'] = 0\n",
    "df.loc[df['popularity'] > df['popularity'].mean(), 'popular_lable'] = 1\n",
    "\n",
    "X = df.drop(columns=['popularity', 'popular_lable'])\n",
    "y = df['popular_lable']"
   ]
  },
  {
   "cell_type": "markdown",
   "metadata": {},
   "source": [
    "Train and test split:"
   ]
  },
  {
   "cell_type": "code",
   "execution_count": 9,
   "metadata": {
    "execution": {
     "iopub.execute_input": "2023-02-02T09:39:02.515427Z",
     "iopub.status.busy": "2023-02-02T09:39:02.515048Z",
     "iopub.status.idle": "2023-02-02T09:39:02.608412Z",
     "shell.execute_reply": "2023-02-02T09:39:02.607221Z",
     "shell.execute_reply.started": "2023-02-02T09:39:02.515395Z"
    }
   },
   "outputs": [
    {
     "name": "stdout",
     "output_type": "stream",
     "text": [
      "X train shape:(134548, 16), y train shape:(134548,)\n",
      "X test shape:(23744, 16), y test shape:(23744,)\n"
     ]
    }
   ],
   "source": [
    "X_train, X_test, y_train, y_test = train_test_split(X, y, train_size=0.85, random_state=42)\n",
    "\n",
    "print(f'X train shape:{X_train.shape}, y train shape:{y_train.shape}\\n'\n",
    "      f'X test shape:{X_test.shape}, y test shape:{y_test.shape}')"
   ]
  },
  {
   "cell_type": "markdown",
   "metadata": {},
   "source": [
    "# Building model - Decision Tree Classifier\n",
    "model pipeline: <br>\n",
    "- one hot encoder - for dealing with object/non-numerical columns values<br>\n",
    "- Decision Tree Classifier <br>"
   ]
  },
  {
   "cell_type": "code",
   "execution_count": 10,
   "metadata": {
    "execution": {
     "iopub.execute_input": "2023-02-02T09:39:20.200014Z",
     "iopub.status.busy": "2023-02-02T09:39:20.199601Z",
     "iopub.status.idle": "2023-02-02T09:42:00.222839Z",
     "shell.execute_reply": "2023-02-02T09:42:00.221826Z",
     "shell.execute_reply.started": "2023-02-02T09:39:20.199974Z"
    }
   },
   "outputs": [
    {
     "data": {
      "text/plain": [
       "Pipeline(steps=[('onehotencoder', OneHotEncoder(handle_unknown='ignore')),\n",
       "                ('decisiontreeclassifier',\n",
       "                 DecisionTreeClassifier(random_state=42))])"
      ]
     },
     "execution_count": 10,
     "metadata": {},
     "output_type": "execute_result"
    }
   ],
   "source": [
    "model_clf = make_pipeline(OneHotEncoder(handle_unknown='ignore'), \n",
    "                      DecisionTreeClassifier(random_state=42))\n",
    "# fit the model\n",
    "model_clf.fit(X_train, y_train)"
   ]
  },
  {
   "cell_type": "markdown",
   "metadata": {},
   "source": [
    "Make predictions:"
   ]
  },
  {
   "cell_type": "code",
   "execution_count": 11,
   "metadata": {
    "execution": {
     "iopub.execute_input": "2023-02-02T09:42:06.024889Z",
     "iopub.status.busy": "2023-02-02T09:42:06.024471Z",
     "iopub.status.idle": "2023-02-02T09:42:07.482178Z",
     "shell.execute_reply": "2023-02-02T09:42:07.480911Z",
     "shell.execute_reply.started": "2023-02-02T09:42:06.024854Z"
    }
   },
   "outputs": [
    {
     "name": "stdout",
     "output_type": "stream",
     "text": [
      "y train shape:(134548,), predicted y train shape:(134548,)\n",
      "y test shape:(23744,), predicted y test shape:(23744,)\n"
     ]
    }
   ],
   "source": [
    "# make predictions\n",
    "y_train_pred = model_clf.predict(X_train)\n",
    "y_test_pred = model_clf.predict(X_test)\n",
    "\n",
    "# sanity check - make sure data shapes makes sense\n",
    "assert y_train.shape == y_train_pred.shape, \"y_train and y_train_pred shape don't match\"\n",
    "assert y_test.shape == y_test_pred.shape, \"y_test and y_test_pred shape don't match\"\n",
    "\n",
    "print(f'y train shape:{y_train.shape}, predicted y train shape:{y_train_pred.shape}\\n'\n",
    "      f'y test shape:{y_test.shape}, predicted y test shape:{y_test_pred.shape}')"
   ]
  },
  {
   "cell_type": "markdown",
   "metadata": {},
   "source": [
    "**Model evaluation** <br>\n",
    "Confusion matrix:"
   ]
  },
  {
   "cell_type": "code",
   "execution_count": 12,
   "metadata": {
    "execution": {
     "iopub.execute_input": "2023-02-02T09:42:11.621668Z",
     "iopub.status.busy": "2023-02-02T09:42:11.621265Z",
     "iopub.status.idle": "2023-02-02T09:42:11.821714Z",
     "shell.execute_reply": "2023-02-02T09:42:11.820574Z",
     "shell.execute_reply.started": "2023-02-02T09:42:11.621634Z"
    }
   },
   "outputs": [
    {
     "data": {
      "image/png": "[encoded data removed]",
      "text/plain": [
       "<Figure size 432x288 with 2 Axes>"
      ]
     },
     "metadata": {
      "needs_background": "light"
     },
     "output_type": "display_data"
    }
   ],
   "source": [
    "conf_matrix = confusion_matrix(y_true=y_test, y_pred=y_test_pred)\n",
    "\n",
    "ConfusionMatrixDisplay(confusion_matrix=conf_matrix).plot();"
   ]
  },
  {
   "cell_type": "markdown",
   "metadata": {},
   "source": [
    "Accuracy, Precision, Recall & F1-Score: <br>\n",
    "- Accuracy - the ratio of true positives and true negatives to all positive and negative observations. In other words, accuracy tells us how often we can expect our machine learning model will correctly predict an outcome out of the total number of times it made predictions.\n",
    "$$ Accuracy = \\frac{TP+TN}{TP+FN+TN+FP}$$\n",
    "\n",
    "- Precision - measures the proportion of positively predicted labels that are actually correct\n",
    "$$ Precision = \\frac{TP}{FP+TP} $$\n",
    "\n",
    "- Recall -  represents the model’s ability to correctly predict the positives out of actual positives\n",
    "$$ Recall = \\frac{TP}{FN+TP}$$\n",
    "\n",
    "- F1-Score - represents the model score as a function of precision and recall score.\n",
    "$$F1 = \\frac{2* Precision * Recall}{Precision + Recall}$$"
   ]
  },
  {
   "cell_type": "code",
   "execution_count": 13,
   "metadata": {
    "execution": {
     "iopub.execute_input": "2023-02-02T09:42:17.837737Z",
     "iopub.status.busy": "2023-02-02T09:42:17.837336Z",
     "iopub.status.idle": "2023-02-02T09:42:17.878927Z",
     "shell.execute_reply": "2023-02-02T09:42:17.877864Z",
     "shell.execute_reply.started": "2023-02-02T09:42:17.837703Z"
    }
   },
   "outputs": [
    {
     "name": "stdout",
     "output_type": "stream",
     "text": [
      "Accuracy: 0.909 \n",
      " Precision: 0.912 \n",
      " Recall: 0.912 \n",
      " F1 Score: 0.912\n"
     ]
    }
   ],
   "source": [
    "print('Accuracy: %.3f' % accuracy_score(y_test, y_test_pred), '\\n',\n",
    "      'Precision: %.3f' % precision_score(y_test, y_test_pred), '\\n', \n",
    "      'Recall: %.3f' % recall_score(y_test, y_test_pred), '\\n', \n",
    "      'F1 Score: %.3f' % f1_score(y_test, y_test_pred))"
   ]
  },
  {
   "cell_type": "markdown",
   "metadata": {},
   "source": [
    "# Building model - Decision Tree Regressor\n",
    "init data split:"
   ]
  },
  {
   "cell_type": "code",
   "execution_count": 110,
   "metadata": {
    "execution": {
     "iopub.execute_input": "2023-02-02T11:15:54.527924Z",
     "iopub.status.busy": "2023-02-02T11:15:54.526688Z",
     "iopub.status.idle": "2023-02-02T11:15:54.621480Z",
     "shell.execute_reply": "2023-02-02T11:15:54.620343Z",
     "shell.execute_reply.started": "2023-02-02T11:15:54.527880Z"
    }
   },
   "outputs": [
    {
     "name": "stdout",
     "output_type": "stream",
     "text": [
      "X train shape:(134548, 16), y train shape:(134548,)\n",
      "X test shape:(23744, 16), y test shape:(23744,)\n"
     ]
    }
   ],
   "source": [
    "# init data split\n",
    "\n",
    "# for a regressor - y is popularity and not popular_lable\n",
    "X = df.drop(columns=['popularity', 'popular_lable'])\n",
    "y = df['popularity']\n",
    "\n",
    "X_train, X_test, y_train, y_test = train_test_split(X, y, train_size=0.85, random_state=42)\n",
    "\n",
    "# sanity check - make sure data shapes makes sense\n",
    "print(f'X train shape:{X_train.shape}, y train shape:{y_train.shape}\\n'\n",
    "      f'X test shape:{X_test.shape}, y test shape:{y_test.shape}')"
   ]
  },
  {
   "cell_type": "markdown",
   "metadata": {},
   "source": [
    "model pipeline: <br>\n",
    "- one hot encoder - for dealing with object/non-numerical columns values<br>\n",
    "- Decision Tree Regressor <br>"
   ]
  },
  {
   "cell_type": "code",
   "execution_count": 123,
   "metadata": {
    "execution": {
     "iopub.execute_input": "2023-02-02T11:21:42.760120Z",
     "iopub.status.busy": "2023-02-02T11:21:42.759694Z",
     "iopub.status.idle": "2023-02-02T11:33:08.413821Z",
     "shell.execute_reply": "2023-02-02T11:33:08.412634Z",
     "shell.execute_reply.started": "2023-02-02T11:21:42.760084Z"
    }
   },
   "outputs": [
    {
     "data": {
      "text/plain": [
       "Pipeline(steps=[('onehotencoder', OneHotEncoder(handle_unknown='ignore')),\n",
       "                ('decisiontreeregressor',\n",
       "                 DecisionTreeRegressor(random_state=42))])"
      ]
     },
     "execution_count": 123,
     "metadata": {},
     "output_type": "execute_result"
    }
   ],
   "source": [
    "model_reg = make_pipeline(OneHotEncoder(handle_unknown='ignore'), \n",
    "                      DecisionTreeRegressor(random_state=42))\n",
    "# fit the model\n",
    "model_reg.fit(X_train, y_train)"
   ]
  },
  {
   "cell_type": "markdown",
   "metadata": {},
   "source": [
    "Make predictions:"
   ]
  },
  {
   "cell_type": "code",
   "execution_count": 124,
   "metadata": {
    "execution": {
     "iopub.execute_input": "2023-02-02T11:33:40.909448Z",
     "iopub.status.busy": "2023-02-02T11:33:40.909060Z",
     "iopub.status.idle": "2023-02-02T11:33:42.641338Z",
     "shell.execute_reply": "2023-02-02T11:33:42.640184Z",
     "shell.execute_reply.started": "2023-02-02T11:33:40.909413Z"
    }
   },
   "outputs": [
    {
     "name": "stdout",
     "output_type": "stream",
     "text": [
      "y train shape:(134548,), predicted y train shape:(134548,)\n",
      "y test shape:(23744,), predicted y test shape:(23744,)\n"
     ]
    }
   ],
   "source": [
    "# make predictions\n",
    "y_train_pred = model_reg.predict(X_train)\n",
    "y_test_pred = model_reg.predict(X_test)\n",
    "\n",
    "# sanity check - make sure data shapes makes sense\n",
    "assert y_train.shape == y_train_pred.shape, \"y_train and y_train_pred shape don't match\"\n",
    "assert y_test.shape == y_test_pred.shape, \"y_test and y_test_pred shape don't match\"\n",
    "\n",
    "print(f'y train shape:{y_train.shape}, predicted y train shape:{y_train_pred.shape}\\n'\n",
    "      f'y test shape:{y_test.shape}, predicted y test shape:{y_test_pred.shape}')"
   ]
  },
  {
   "cell_type": "markdown",
   "metadata": {},
   "source": [
    "Label y (true and predicted): <br>\n",
    "use popularity score to label 'popular'=1 / 'not popular'=0 \n"
   ]
  },
  {
   "cell_type": "code",
   "execution_count": 153,
   "metadata": {
    "execution": {
     "iopub.execute_input": "2023-02-02T11:52:55.342700Z",
     "iopub.status.busy": "2023-02-02T11:52:55.342284Z",
     "iopub.status.idle": "2023-02-02T11:52:55.602211Z",
     "shell.execute_reply": "2023-02-02T11:52:55.601301Z",
     "shell.execute_reply.started": "2023-02-02T11:52:55.342662Z"
    }
   },
   "outputs": [],
   "source": [
    "# helper function for mapping\n",
    "# if val>avg return 1, else return 0\n",
    "def _func(val, avg):\n",
    "    if val > avg:\n",
    "        return bool(1)\n",
    "    else:\n",
    "        return bool(0)\n",
    "\n",
    "# convert popylarity scores into labels (0/1)\n",
    "y_train_l = y_train.apply(_func, args=(y_train.mean(),))\n",
    "y_test_l = y_test.apply(_func, args=(y_test.mean(),))\n",
    "y_train_pred_l = (pd.Series(y_train_pred, index=y_train.index, name='popularity')\n",
    "                .apply(_func, args=(y_train_pred.mean(),)))\n",
    "y_test_pred_l = (pd.Series(y_test_pred, index=y_test.index, name='popularity')\n",
    "               .apply(_func, args=(y_test_pred.mean(),)))\n",
    "\n",
    "# sanity check\n",
    "assert all([len(y_train[y_train_l]) == sum(y_train_l), \n",
    "            len(y_test[y_test_l]) == sum(y_test_l)]), 'wrong binarization'"
   ]
  },
  {
   "cell_type": "markdown",
   "metadata": {},
   "source": [
    "**Model evaluation** <br>\n",
    "Confusion matrix:"
   ]
  },
  {
   "cell_type": "code",
   "execution_count": 155,
   "metadata": {
    "execution": {
     "iopub.execute_input": "2023-02-02T11:54:39.771429Z",
     "iopub.status.busy": "2023-02-02T11:54:39.771017Z",
     "iopub.status.idle": "2023-02-02T11:54:39.973152Z",
     "shell.execute_reply": "2023-02-02T11:54:39.971881Z",
     "shell.execute_reply.started": "2023-02-02T11:54:39.771393Z"
    }
   },
   "outputs": [
    {
     "data": {
      "image/png": "[encoded data removed]",
      "text/plain": [
       "<Figure size 432x288 with 2 Axes>"
      ]
     },
     "metadata": {
      "needs_background": "light"
     },
     "output_type": "display_data"
    }
   ],
   "source": [
    "conf_matrix = confusion_matrix(y_true=y_test_l, y_pred=y_test_pred_l)\n",
    "\n",
    "ConfusionMatrixDisplay(confusion_matrix=conf_matrix).plot();"
   ]
  },
  {
   "cell_type": "markdown",
   "metadata": {},
   "source": [
    "Accuracy, Precision, Recall & F1-Score:"
   ]
  },
  {
   "cell_type": "code",
   "execution_count": 156,
   "metadata": {
    "execution": {
     "iopub.execute_input": "2023-02-02T11:55:50.390522Z",
     "iopub.status.busy": "2023-02-02T11:55:50.390119Z",
     "iopub.status.idle": "2023-02-02T11:55:50.430464Z",
     "shell.execute_reply": "2023-02-02T11:55:50.429242Z",
     "shell.execute_reply.started": "2023-02-02T11:55:50.390485Z"
    }
   },
   "outputs": [
    {
     "name": "stdout",
     "output_type": "stream",
     "text": [
      "Accuracy: 0.905 \n",
      " Precision: 0.905 \n",
      " Recall: 0.912 \n",
      " F1 Score: 0.908\n"
     ]
    }
   ],
   "source": [
    "print('Accuracy: %.3f' % accuracy_score(y_test_l, y_test_pred_l), '\\n',\n",
    "      'Precision: %.3f' % precision_score(y_test_l, y_test_pred_l), '\\n', \n",
    "      'Recall: %.3f' % recall_score(y_test_l, y_test_pred_l), '\\n', \n",
    "      'F1 Score: %.3f' % f1_score(y_test_l, y_test_pred_l))"
   ]
  },
  {
   "cell_type": "markdown",
   "metadata": {},
   "source": [
    "**scores comparison summery:** <br>\n",
    "\n",
    "|           | Classification | Regression |\n",
    "| :-------: | :------------: | :--------: |\n",
    "| Accuracy  | 0.909          | 0.905      |\n",
    "| Precision | 0.912          | 0.905      |\n",
    "| Recall    | 0.912          | 0.912      |\n",
    "| F1 Score  | 0.912          | 0.908      |"
   ]
  }
 ],
 "metadata": {
  "kernelspec": {
   "display_name": "Python 3",
   "language": "python",
   "name": "python3"
  },
  "language_info": {
   "codemirror_mode": {
    "name": "ipython",
    "version": 3
   },
   "file_extension": ".py",
   "mimetype": "text/x-python",
   "name": "python",
   "nbconvert_exporter": "python",
   "pygments_lexer": "ipython3",
   "version": "3.8.8"
  }
 },
 "nbformat": 4,
 "nbformat_minor": 4
}
